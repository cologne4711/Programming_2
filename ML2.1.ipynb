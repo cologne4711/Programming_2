{
 "cells": [
  {
   "metadata": {},
   "cell_type": "markdown",
   "source": "",
   "id": "721eb9f9f663a3d"
  },
  {
   "metadata": {
    "ExecuteTime": {
     "end_time": "2025-03-26T08:58:05.679956Z",
     "start_time": "2025-03-26T08:58:05.677270Z"
    }
   },
   "cell_type": "code",
   "source": [
    "# Import Libraries\n",
    "import numpy as np\n",
    "import requests\n",
    "import pandas as pd\n",
    "import matplotlib.pyplot as plt\n",
    "\n"
   ],
   "id": "b50ae1f724227952",
   "outputs": [],
   "execution_count": 6
  },
  {
   "metadata": {
    "ExecuteTime": {
     "end_time": "2025-03-26T08:58:25.010118Z",
     "start_time": "2025-03-26T08:58:08.291865Z"
    }
   },
   "cell_type": "code",
   "source": [
    "# Download Data\n",
    "def download(url, filename):\n",
    "    # Send a GET request to fetch the content of the URL\n",
    "    response = requests.get(url)\n",
    "\n",
    "    # Check if the request was successful (status code 200)\n",
    "    if response.status_code == 200:\n",
    "        # Write the content to a file with the specified filename\n",
    "        with open(filename, \"wb\") as file:\n",
    "            file.write(response.content)\n",
    "        print(f\"File downloaded successfully as {filename}\")\n",
    "    else:\n",
    "        print(f\"Failed to download the file. Status code: {response.status_code}\")\n",
    "\n",
    "\n",
    "download(\"https://www.thp.uni-koeln.de/trebst/Lectures/CompPhys-2020/mnist_train.csv\", \"mnist_train.csv\")\n",
    "\n",
    "download(\"https://www.thp.uni-koeln.de/trebst/Lectures/CompPhys-2020/mnist_test.csv\", \"mnist_test.csv\")\n",
    "\n",
    "test = pd.read_csv(\"mnist_test.csv\", header=None)\n",
    "test = test.to_numpy()\n",
    "train = pd.read_csv(\"mnist_train.csv\", header=None)\n",
    "train = train.to_numpy()"
   ],
   "id": "806da5be06003f33",
   "outputs": [
    {
     "name": "stdout",
     "output_type": "stream",
     "text": [
      "File downloaded successfully as mnist_train.csv\n",
      "File downloaded successfully as mnist_test.csv\n"
     ]
    }
   ],
   "execution_count": 7
  },
  {
   "metadata": {
    "ExecuteTime": {
     "end_time": "2025-03-26T08:58:26.571482Z",
     "start_time": "2025-03-26T08:58:26.569165Z"
    }
   },
   "cell_type": "code",
   "source": [
    "# Check out data\n",
    "n_test = len(test)\n",
    "n_train = len(train)\n",
    "print(f\"Numbers of training data: {n_test}, number of test data {n_train}\")\n",
    "print(f\"Shape of training data: {train.shape}\")"
   ],
   "id": "d5753dd468d76c7f",
   "outputs": [
    {
     "name": "stdout",
     "output_type": "stream",
     "text": [
      "Numbers of training data: 10000, number of test data 60000\n",
      "Shape of training data: (60000, 785)\n"
     ]
    }
   ],
   "execution_count": 8
  },
  {
   "metadata": {
    "ExecuteTime": {
     "end_time": "2025-03-26T08:58:28.019357Z",
     "start_time": "2025-03-26T08:58:28.014946Z"
    }
   },
   "cell_type": "code",
   "source": [
    "## Allocate Memory\n",
    "X_train = np.zeros((n_train, 784))\n",
    "X_test = np.zeros((n_test, 784))\n",
    "y_train = np.zeros((n_train, 10))\n",
    "y_test = np.zeros((n_test, 10))"
   ],
   "id": "6026f679444bcef2",
   "outputs": [],
   "execution_count": 9
  },
  {
   "metadata": {
    "ExecuteTime": {
     "end_time": "2025-03-26T08:58:29.070505Z",
     "start_time": "2025-03-26T08:58:28.859441Z"
    }
   },
   "cell_type": "code",
   "source": [
    "# Set Values Of Training Data\n",
    "X_train = train[:,1:]/ 255.0\n",
    "X_test = test[:,1:]/ 255.0\n",
    "for i in range(60000):\n",
    "    y_train[i,train[i,0]] = 1\n",
    "for j in range(10000):\n",
    "    y_test[j,test[j,0]] = 1\n",
    "\n"
   ],
   "id": "fbc121e30a2defb3",
   "outputs": [],
   "execution_count": 10
  },
  {
   "metadata": {
    "ExecuteTime": {
     "end_time": "2025-03-26T08:58:30.829525Z",
     "start_time": "2025-03-26T08:58:30.598475Z"
    }
   },
   "cell_type": "code",
   "source": [
    "# Show data\n",
    "images_and_labels=list(zip(X_train,train[:,0]))\n",
    "plt.figure(figsize=(5,5))\n",
    "for index,(image,label) in enumerate(images_and_labels[:15]):\n",
    "    plt.subplot(3,5,index+1)\n",
    "    plt.axis('off')\n",
    "    plt.imshow(np.reshape(image,(28,28)),cmap=plt.cm.gray_r,interpolation='nearest')\n",
    "    plt.title('%i' % int(label))"
   ],
   "id": "723198c42f28f16f",
   "outputs": [
    {
     "data": {
      "text/plain": [
       "<Figure size 500x500 with 15 Axes>"
      ],
      "image/png": "[encoded data removed]"
     },
     "metadata": {},
     "output_type": "display_data"
    }
   ],
   "execution_count": 11
  },
  {
   "metadata": {
    "ExecuteTime": {
     "end_time": "2025-03-26T08:58:31.688192Z",
     "start_time": "2025-03-26T08:58:31.683210Z"
    }
   },
   "cell_type": "code",
   "source": [
    "# Activation function for neurons\n",
    "def sigmoid(Z):\n",
    "    Z = np.clip(Z, -500, 500)\n",
    "    return 1/(1+np.exp(-Z))\n",
    "\n",
    "# Derivative\n",
    "def dsigmoid(Z):\n",
    "    return sigmoid(Z)*(1-sigmoid(Z))"
   ],
   "id": "668ad0368b0b8c06",
   "outputs": [],
   "execution_count": 12
  },
  {
   "metadata": {
    "ExecuteTime": {
     "end_time": "2025-03-26T09:07:44.515164Z",
     "start_time": "2025-03-26T09:07:44.512077Z"
    }
   },
   "cell_type": "code",
   "source": [
    "# Initialize Weighs and Bias\n",
    "def initialize_parameters(n_input, n_hidden1, n_hidden2, n_output):\n",
    "    W_input_hidden1 = (np.random.rand(n_input, n_hidden1) - 0.5) * 2\n",
    "    W_hidden1_hidden2 = (np.random.rand(n_hidden1, n_hidden2) - 0.5) * 2\n",
    "    W_hidden2_output = (np.random.rand(n_hidden2, n_output) - 0.5) * 2\n",
    "\n",
    "    B_hidden1 = (np.random.rand(n_hidden1) - 0.5) * 2\n",
    "    B_hidden2 = (np.random.rand(n_hidden2) - 0.5) * 2\n",
    "    B_output = (np.random.rand(n_output) - 0.5) * 2\n",
    "\n",
    "    return W_input_hidden1, W_hidden1_hidden2, W_hidden2_output, B_hidden1, B_hidden2, B_output\n"
   ],
   "id": "1339bf7d74d55832",
   "outputs": [],
   "execution_count": 33
  },
  {
   "metadata": {
    "ExecuteTime": {
     "end_time": "2025-03-26T09:05:44.006054Z",
     "start_time": "2025-03-26T09:05:43.998168Z"
    }
   },
   "cell_type": "code",
   "source": [
    "# Propagate Data forward through network\n",
    "def forward_propagation(X, W_input_hidden1, W_hidden1_hidden2, W_hidden2_output, B_hidden1, B_hidden2, B_output):\n",
    "    hidden1_layer_values = sigmoid(np.dot(X, W_input_hidden1) + B_hidden1)\n",
    "    hidden2_layer_values = sigmoid(np.dot(hidden1_layer_values, W_hidden1_hidden2) + B_hidden2)\n",
    "    output_layer_values = sigmoid(np.dot(hidden2_layer_values, W_hidden2_output ) + B_output)\n",
    "\n",
    "    return hidden1_layer_values, hidden2_layer_values, output_layer_values\n"
   ],
   "id": "65b0672da340f11b",
   "outputs": [],
   "execution_count": 28
  },
  {
   "metadata": {
    "ExecuteTime": {
     "end_time": "2025-03-26T09:05:44.332154Z",
     "start_time": "2025-03-26T09:05:44.328890Z"
    }
   },
   "cell_type": "code",
   "source": [
    "# Calc Error in output and first back step\n",
    "def calc_errors(Y, output_layer_values):\n",
    "    # Fehler im Output bestimmen und auf Hidden Layer ebene zurueckpropagieren\n",
    "    result_err = Y- output_layer_values\n",
    "    result_delta = result_err * dsigmoid(output_layer_values)\n",
    "\n",
    "    return result_err, result_delta"
   ],
   "id": "262d23a84d431a6c",
   "outputs": [],
   "execution_count": 29
  },
  {
   "metadata": {
    "ExecuteTime": {
     "end_time": "2025-03-26T09:18:38.889917Z",
     "start_time": "2025-03-26T09:18:38.884300Z"
    }
   },
   "cell_type": "code",
   "source": [
    "# Calc error in hidden and second backprop\n",
    "def backpropagation(W_hidden1_hidden2, W_hidden2_output, result_delta , hidden1_layer_values, hidden2_layer_values):\n",
    "    # Fehler im Hidden-Layer bestimmen\n",
    "    hidden2_err = np.dot(W_hidden2_output, result_delta)\n",
    "    hidden2_delta = hidden2_err * dsigmoid(hidden2_layer_values)\n",
    "\n",
    "    hidden1_err = np.dot(W_hidden1_hidden2, hidden2_delta)\n",
    "    hidden1_delta = hidden1_err * dsigmoid(hidden1_layer_values)\n",
    "\n",
    "    return hidden1_err, hidden1_delta, hidden2_err, hidden2_delta"
   ],
   "id": "69d94b191970ef76",
   "outputs": [],
   "execution_count": 39
  },
  {
   "metadata": {
    "ExecuteTime": {
     "end_time": "2025-03-26T09:18:39.316352Z",
     "start_time": "2025-03-26T09:18:39.311861Z"
    }
   },
   "cell_type": "code",
   "source": [
    "# initialize parameters for deep neural networks\n",
    "n_input = 28 * 28 # fixed by input\n",
    "n_hidden1 = 256 # set by user\n",
    "n_hidden2 = 256 # set by user\n",
    "n_output = 10 # fixed by output\n",
    "iterations = 100 # Training iterations\n",
    "learning_rate = 0.005 # Learning rate (Step of gradient descent)\n",
    "\n",
    "# Using mini batches to speed up the process\n",
    "USE_MINI_BATCHES = True # Set to false if not needed\n",
    "\n",
    "if USE_MINI_BATCHES:\n",
    "    iterations = 500\n",
    "    batch_size = 128\n",
    "    batches = 32\n",
    "else:\n",
    "    batch_size = len(X_train)\n",
    "\n",
    "def train_model(X_train, y_train, iterations, learning_rate):\n",
    "\n",
    "    # initialize\n",
    "    W_input_hidden1, W_hidden1_hidden2, W_hidden2_output, B_hidden1, B_hidden2, B_output = initialize_parameters(n_input, n_hidden1, n_hidden2, n_output)\n",
    "\n",
    "    for iter in range(iterations):\n",
    "        # calc errors\n",
    "\n",
    "\n",
    "\n",
    "        order_list = np.arange(len(X_train))\n",
    "        if USE_MINI_BATCHES:\n",
    "            batches = 20\n",
    "            np.random.shuffle(order_list)\n",
    "        else:\n",
    "            batches = 1\n",
    "\n",
    "        for b in range(batches):\n",
    "            dW_input_hidden1 = np.zeros(W_input_hidden1.shape)\n",
    "            dW_hidden1_hidden2 = np.zeros(W_hidden1_hidden2.shape)\n",
    "            dW_hidden2_output = np.zeros(W_hidden2_output.shape)\n",
    "            dB_hidden1 = np.zeros(B_hidden1.shape)\n",
    "            dB_hidden2 = np.zeros(B_hidden2.shape)\n",
    "            dB_output = np.zeros(B_output.shape)\n",
    "\n",
    "            total_error = 0.\n",
    "\n",
    "            if USE_MINI_BATCHES:\n",
    "                batch_index = order_list[b*batch_size:(b+1)*batch_size]\n",
    "            else:\n",
    "                batch_index = order_list\n",
    "            for i in batch_index:\n",
    "                input_data = X_train[i,:].T\n",
    "                target_data = y_train[i,:]\n",
    "\n",
    "                hidden1_layer_values, hidden2_layer_values, output_layer_values = forward_propagation(input_data, W_input_hidden1, W_hidden1_hidden2, W_hidden2_output, B_hidden1, B_hidden2, B_output)\n",
    "\n",
    "                result_err, result_delta = calc_errors(target_data, output_layer_values)\n",
    "\n",
    "                hidden1_err, hidden1_delta, hidden2_err, hidden2_delta = backpropagation(W_hidden1_hidden2, W_hidden2_output, result_delta, hidden1_layer_values, hidden2_layer_values)\n",
    "\n",
    "                dW_input_hidden1 += np.outer(input_data, hidden1_delta) * learning_rate\n",
    "                dW_hidden1_hidden2 += np.outer(hidden1_layer_values, hidden2_delta) * learning_rate\n",
    "                dW_hidden2_output += np.outer(hidden2_layer_values, result_delta) * learning_rate\n",
    "                dB_hidden1 +=  hidden1_delta * learning_rate\n",
    "                dB_hidden2 += hidden2_delta * learning_rate\n",
    "                dB_output +=  result_delta * learning_rate\n",
    "\n",
    "                total_error += np.abs(result_err).sum()\n",
    "\n",
    "            W_input_hidden1 += dW_input_hidden1\n",
    "            W_hidden1_hidden2 += dW_hidden1_hidden2\n",
    "            W_hidden2_output += dW_hidden2_output\n",
    "            B_hidden1 += dB_hidden1\n",
    "            B_hidden2 += dB_hidden2\n",
    "            B_output += dB_output\n",
    "\n",
    "        if iter %5 == 0 : print(f\"Fehler in iteration {iter} ist {total_error}\")\n",
    "\n",
    "\n",
    "\n",
    "    return W_input_hidden1, W_hidden1_hidden2, W_hidden2_output, B_hidden1, B_hidden2, B_output\n",
    "\n"
   ],
   "id": "985cd6f8c4f28752",
   "outputs": [],
   "execution_count": 40
  },
  {
   "metadata": {
    "ExecuteTime": {
     "end_time": "2025-03-26T09:18:43.233618Z",
     "start_time": "2025-03-26T09:18:40.288136Z"
    }
   },
   "cell_type": "code",
   "source": "W_input_hidden1, W_hidden1_hidden2, W_hidden2_output, B_hidden1, B_hidden2, B_output = train_model(X_train, y_train, iterations, learning_rate)",
   "id": "a099e7fe16a0f7bc",
   "outputs": [
    {
     "name": "stdout",
     "output_type": "stream",
     "text": [
      "Fehler in iteration 0 ist 126.06466761377675\n"
     ]
    },
    {
     "ename": "KeyboardInterrupt",
     "evalue": "",
     "output_type": "error",
     "traceback": [
      "\u001B[31m---------------------------------------------------------------------------\u001B[39m",
      "\u001B[31mKeyboardInterrupt\u001B[39m                         Traceback (most recent call last)",
      "\u001B[36mCell\u001B[39m\u001B[36m \u001B[39m\u001B[32mIn[41]\u001B[39m\u001B[32m, line 1\u001B[39m\n\u001B[32m----> \u001B[39m\u001B[32m1\u001B[39m W_input_hidden1, W_hidden1_hidden2, W_hidden2_output, B_hidden1, B_hidden2, B_output = \u001B[43mtrain_model\u001B[49m\u001B[43m(\u001B[49m\u001B[43mX_train\u001B[49m\u001B[43m,\u001B[49m\u001B[43m \u001B[49m\u001B[43my_train\u001B[49m\u001B[43m,\u001B[49m\u001B[43m \u001B[49m\u001B[43miterations\u001B[49m\u001B[43m,\u001B[49m\u001B[43m \u001B[49m\u001B[43mlearning_rate\u001B[49m\u001B[43m)\u001B[49m\n",
      "\u001B[36mCell\u001B[39m\u001B[36m \u001B[39m\u001B[32mIn[40]\u001B[39m\u001B[32m, line 60\u001B[39m, in \u001B[36mtrain_model\u001B[39m\u001B[34m(X_train, y_train, iterations, learning_rate)\u001B[39m\n\u001B[32m     56\u001B[39m result_err, result_delta = calc_errors(target_data, output_layer_values)\n\u001B[32m     58\u001B[39m hidden1_err, hidden1_delta, hidden2_err, hidden2_delta = backpropagation(W_hidden1_hidden2, W_hidden2_output, result_delta, hidden1_layer_values, hidden2_layer_values)\n\u001B[32m---> \u001B[39m\u001B[32m60\u001B[39m dW_input_hidden1 += \u001B[43mnp\u001B[49m\u001B[43m.\u001B[49m\u001B[43mouter\u001B[49m\u001B[43m(\u001B[49m\u001B[43minput_data\u001B[49m\u001B[43m,\u001B[49m\u001B[43m \u001B[49m\u001B[43mhidden1_delta\u001B[49m\u001B[43m)\u001B[49m * learning_rate\n\u001B[32m     61\u001B[39m dW_hidden1_hidden2 += np.outer(hidden1_layer_values, hidden2_delta) * learning_rate\n\u001B[32m     62\u001B[39m dW_hidden2_output += np.outer(hidden2_layer_values, result_delta) * learning_rate\n",
      "\u001B[36mFile \u001B[39m\u001B[32m/Library/Frameworks/Python.framework/Versions/3.12/lib/python3.12/site-packages/numpy/_core/numeric.py:961\u001B[39m, in \u001B[36mouter\u001B[39m\u001B[34m(a, b, out)\u001B[39m\n\u001B[32m    959\u001B[39m a = asarray(a)\n\u001B[32m    960\u001B[39m b = asarray(b)\n\u001B[32m--> \u001B[39m\u001B[32m961\u001B[39m \u001B[38;5;28;01mreturn\u001B[39;00m \u001B[43mmultiply\u001B[49m\u001B[43m(\u001B[49m\u001B[43ma\u001B[49m\u001B[43m.\u001B[49m\u001B[43mravel\u001B[49m\u001B[43m(\u001B[49m\u001B[43m)\u001B[49m\u001B[43m[\u001B[49m\u001B[43m:\u001B[49m\u001B[43m,\u001B[49m\u001B[43m \u001B[49m\u001B[43mnewaxis\u001B[49m\u001B[43m]\u001B[49m\u001B[43m,\u001B[49m\u001B[43m \u001B[49m\u001B[43mb\u001B[49m\u001B[43m.\u001B[49m\u001B[43mravel\u001B[49m\u001B[43m(\u001B[49m\u001B[43m)\u001B[49m\u001B[43m[\u001B[49m\u001B[43mnewaxis\u001B[49m\u001B[43m,\u001B[49m\u001B[43m \u001B[49m\u001B[43m:\u001B[49m\u001B[43m]\u001B[49m\u001B[43m,\u001B[49m\u001B[43m \u001B[49m\u001B[43mout\u001B[49m\u001B[43m)\u001B[49m\n",
      "\u001B[31mKeyboardInterrupt\u001B[39m: "
     ]
    }
   ],
   "execution_count": 41
  },
  {
   "metadata": {
    "ExecuteTime": {
     "end_time": "2025-03-21T09:00:43.791696Z",
     "start_time": "2025-03-21T09:00:43.672887Z"
    }
   },
   "cell_type": "code",
   "source": [
    "# Test train data\n",
    "for i in range(10):\n",
    "    check  = np.random.randint(1,len(X_train))\n",
    "    # calc result\n",
    "    hid1, hid2, out = forward_propagation(X_train[check,:], W_input_hidden1, W_hidden1_hidden2, W_hidden2_output, B_hidden1, B_hidden2, B_output)\n",
    "    max_index = np.argmax(out)\n",
    "    print(f\"Erwartetes Ergebnis: {train[check,0]}, Berechnetes Ergebnis: {max_index}\")\n"
   ],
   "id": "9c7bcd95c808ba51",
   "outputs": [
    {
     "name": "stdout",
     "output_type": "stream",
     "text": [
      "Erwartetes Ergebnis: 9, Berechnetes Ergebnis: 9\n",
      "Erwartetes Ergebnis: 8, Berechnetes Ergebnis: 8\n",
      "Erwartetes Ergebnis: 0, Berechnetes Ergebnis: 0\n",
      "Erwartetes Ergebnis: 1, Berechnetes Ergebnis: 1\n",
      "Erwartetes Ergebnis: 1, Berechnetes Ergebnis: 3\n",
      "Erwartetes Ergebnis: 5, Berechnetes Ergebnis: 5\n",
      "Erwartetes Ergebnis: 2, Berechnetes Ergebnis: 2\n",
      "Erwartetes Ergebnis: 7, Berechnetes Ergebnis: 7\n",
      "Erwartetes Ergebnis: 9, Berechnetes Ergebnis: 9\n",
      "Erwartetes Ergebnis: 3, Berechnetes Ergebnis: 3\n"
     ]
    }
   ],
   "execution_count": 190
  },
  {
   "metadata": {
    "ExecuteTime": {
     "end_time": "2025-03-21T09:00:56.476208Z",
     "start_time": "2025-03-21T09:00:53.988623Z"
    }
   },
   "cell_type": "code",
   "source": [
    "\n",
    "# test number of correct prediction on train\n",
    "\n",
    "correct = 0\n",
    "\n",
    "for check in range(n_train):\n",
    "    hid1, hid2, out = forward_propagation(X_train[check,:],W_input_hidden1, W_hidden1_hidden2, W_hidden2_output, B_hidden1, B_hidden2, B_output)\n",
    "    if np.argmax(y_train[check]) == np.argmax(out):\n",
    "        correct += 1\n",
    "\n",
    "ratio = correct / n_train\n",
    "\n",
    "print(f\"The ratio is: {ratio}\")"
   ],
   "id": "8153232eb2a41dbe",
   "outputs": [
    {
     "name": "stdout",
     "output_type": "stream",
     "text": [
      "The ratio is: 0.9096833333333333\n"
     ]
    }
   ],
   "execution_count": 191
  },
  {
   "metadata": {
    "ExecuteTime": {
     "end_time": "2025-03-21T09:01:04.043660Z",
     "start_time": "2025-03-21T09:01:03.587213Z"
    }
   },
   "cell_type": "code",
   "source": [
    "# test number of correct prediction\n",
    "\n",
    "correct = 0\n",
    "\n",
    "for check in range(n_test):\n",
    "    hid1, hid2, out = forward_propagation(X_test[check,:],W_input_hidden1, W_hidden1_hidden2, W_hidden2_output, B_hidden1, B_hidden2, B_output)\n",
    "    if np.argmax(y_test[check]) == np.argmax(out):\n",
    "        correct += 1\n",
    "\n",
    "ratio = correct / n_test\n",
    "\n",
    "print(f\"The ratio is: {ratio}\")"
   ],
   "id": "3cf91fa5c3f6b7fb",
   "outputs": [
    {
     "name": "stdout",
     "output_type": "stream",
     "text": [
      "The ratio is: 0.9047\n"
     ]
    }
   ],
   "execution_count": 192
  },
  {
   "metadata": {
    "ExecuteTime": {
     "end_time": "2025-03-21T06:10:31.487507Z",
     "start_time": "2025-03-21T06:10:31.486160Z"
    }
   },
   "cell_type": "code",
   "source": "",
   "id": "efbfc7c4f0af523d",
   "outputs": [],
   "execution_count": null
  },
  {
   "metadata": {
    "ExecuteTime": {
     "end_time": "2025-03-16T13:17:22.501502Z",
     "start_time": "2025-03-16T13:17:22.498169Z"
    }
   },
   "cell_type": "code",
   "source": "",
   "id": "56c449d90692693b",
   "outputs": [],
   "execution_count": 179
  },
  {
   "metadata": {
    "ExecuteTime": {
     "end_time": "2025-03-16T13:17:23.075766Z",
     "start_time": "2025-03-16T13:17:23.071401Z"
    }
   },
   "cell_type": "code",
   "source": "",
   "id": "2e40a46355f3d681",
   "outputs": [],
   "execution_count": 180
  },
  {
   "metadata": {
    "ExecuteTime": {
     "end_time": "2025-03-16T13:17:24.135776Z",
     "start_time": "2025-03-16T13:17:24.131080Z"
    }
   },
   "cell_type": "code",
   "source": "",
   "id": "be16bc4a2660bd9a",
   "outputs": [],
   "execution_count": 181
  },
  {
   "metadata": {
    "ExecuteTime": {
     "end_time": "2025-03-16T13:17:25.991144Z",
     "start_time": "2025-03-16T13:17:25.986988Z"
    }
   },
   "cell_type": "code",
   "source": "",
   "id": "f34ab5457e0afe5f",
   "outputs": [],
   "execution_count": 182
  },
  {
   "metadata": {
    "ExecuteTime": {
     "end_time": "2025-03-16T13:17:27.676481Z",
     "start_time": "2025-03-16T13:17:27.671620Z"
    }
   },
   "cell_type": "code",
   "source": "",
   "id": "5a7e94cb19b4181b",
   "outputs": [],
   "execution_count": 183
  },
  {
   "metadata": {
    "ExecuteTime": {
     "end_time": "2025-03-20T12:21:03.522397Z",
     "start_time": "2025-03-20T12:21:03.517602Z"
    }
   },
   "cell_type": "code",
   "source": "",
   "id": "6544a2cf4bd64f4d",
   "outputs": [],
   "execution_count": null
  },
  {
   "metadata": {
    "ExecuteTime": {
     "end_time": "2025-03-20T12:20:59.039486Z",
     "start_time": "2025-03-20T12:20:59.035136Z"
    }
   },
   "cell_type": "code",
   "source": "",
   "id": "5339a8baedb16abe",
   "outputs": [],
   "execution_count": null
  },
  {
   "metadata": {
    "ExecuteTime": {
     "end_time": "2025-03-20T12:20:59.147007Z",
     "start_time": "2025-03-20T12:20:59.145721Z"
    }
   },
   "cell_type": "code",
   "source": "",
   "id": "9600cf404d8185c2",
   "outputs": [],
   "execution_count": null
  },
  {
   "metadata": {
    "ExecuteTime": {
     "end_time": "2025-03-20T12:20:59.549866Z",
     "start_time": "2025-03-20T12:20:59.548462Z"
    }
   },
   "cell_type": "code",
   "source": "",
   "id": "f4a6063727467d10",
   "outputs": [],
   "execution_count": null
  },
  {
   "metadata": {
    "ExecuteTime": {
     "end_time": "2025-03-16T13:16:35.231934Z",
     "start_time": "2025-03-16T13:16:35.229645Z"
    }
   },
   "cell_type": "code",
   "source": "",
   "id": "4536a2b82cf3468f",
   "outputs": [],
   "execution_count": null
  },
  {
   "metadata": {},
   "cell_type": "code",
   "outputs": [],
   "execution_count": null,
   "source": "",
   "id": "aad676026e124580"
  }
 ],
 "metadata": {
  "kernelspec": {
   "display_name": "Python 3 (ipykernel)",
   "language": "python",
   "name": "python3"
  },
  "language_info": {
   "codemirror_mode": {
    "name": "ipython",
    "version": 2
   },
   "file_extension": ".py",
   "mimetype": "text/x-python",
   "name": "python",
   "nbconvert_exporter": "python",
   "pygments_lexer": "ipython2",
   "version": "2.7.6"
  }
 },
 "nbformat": 4,
 "nbformat_minor": 5
}
